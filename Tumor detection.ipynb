{
 "nbformat": 4,
 "nbformat_minor": 2,
 "metadata": {
  "language_info": {
   "name": "python",
   "codemirror_mode": {
    "name": "ipython",
    "version": 3
   },
   "version": "3.7.3-final"
  },
  "orig_nbformat": 2,
  "file_extension": ".py",
  "mimetype": "text/x-python",
  "name": "python",
  "npconvert_exporter": "python",
  "pygments_lexer": "ipython3",
  "version": 3,
  "kernelspec": {
   "name": "python37364bitbaseconda47b5f1523ddd4bd6827f8a28ba885c36",
   "display_name": "Python 3.7.3 64-bit ('base': conda)"
  }
 },
 "cells": [
  {
   "cell_type": "markdown",
   "execution_count": null,
   "metadata": {},
   "outputs": [],
   "source": [
    "1. Import the libraries\n",
    "2. Import dataset\n",
    "3. Preprocess (if required)\n",
    "4. Modeling\n",
    "5. Confusion matrix "
   ]
  },
  {
   "cell_type": "code",
   "execution_count": 158,
   "metadata": {},
   "outputs": [],
   "source": [
    "# import libraries\n",
    "import pandas as pd\n",
    "import numpy as np\n",
    "from sklearn.tree import DecisionTreeClassifier\n",
    "from sklearn.metrics import confusion_matrix"
   ]
  },
  {
   "cell_type": "markdown",
   "execution_count": null,
   "metadata": {},
   "outputs": [],
   "source": [
    "#### Importing dataset"
   ]
  },
  {
   "cell_type": "code",
   "execution_count": 159,
   "metadata": {},
   "outputs": [],
   "source": [
    "train = pd.read_csv(\"C:\\Shashank Taneja\\Rotman\\Winter Term\\RSM 8431 Analytics Colloquia\\Causal Inference Using Bayesian Network Theory\\learning_set.csv\", na_values=\"?\")"
   ]
  },
  {
   "cell_type": "code",
   "execution_count": 160,
   "metadata": {},
   "outputs": [],
   "source": [
    "test = pd.read_csv(\"C:/Shashank Taneja/Rotman/Winter Term/RSM 8431 Analytics Colloquia/Causal Inference Using Bayesian Network Theory/test_set.csv\", na_values=\"?\")"
   ]
  },
  {
   "cell_type": "code",
   "execution_count": 161,
   "metadata": {},
   "outputs": [
    {
     "data": {
      "text/html": "<div>\n<style scoped>\n    .dataframe tbody tr th:only-of-type {\n        vertical-align: middle;\n    }\n\n    .dataframe tbody tr th {\n        vertical-align: top;\n    }\n\n    .dataframe thead th {\n        text-align: right;\n    }\n</style>\n<table border=\"1\" class=\"dataframe\">\n  <thead>\n    <tr style=\"text-align: right;\">\n      <th></th>\n      <th>Sample code number</th>\n      <th>Clump Thickness</th>\n      <th>Uniformity of Cell Size</th>\n      <th>Uniformity of Cell Shape</th>\n      <th>Marginal Adhesion</th>\n      <th>Single Epithelial Cell Size</th>\n      <th>Bare Nuclei</th>\n      <th>Bland Chromatin</th>\n      <th>Normal Nucleoli</th>\n      <th>Mitoses</th>\n    </tr>\n  </thead>\n  <tbody>\n    <tr>\n      <th>count</th>\n      <td>5.600000e+02</td>\n      <td>560.000000</td>\n      <td>560.000000</td>\n      <td>560.000000</td>\n      <td>560.000000</td>\n      <td>560.000000</td>\n      <td>549.000000</td>\n      <td>560.000000</td>\n      <td>560.000000</td>\n      <td>560.000000</td>\n    </tr>\n    <tr>\n      <th>mean</th>\n      <td>1.084014e+06</td>\n      <td>4.392857</td>\n      <td>3.119643</td>\n      <td>3.178571</td>\n      <td>2.764286</td>\n      <td>3.164286</td>\n      <td>3.553734</td>\n      <td>3.433929</td>\n      <td>2.816071</td>\n      <td>1.557143</td>\n    </tr>\n    <tr>\n      <th>std</th>\n      <td>6.710439e+05</td>\n      <td>2.812435</td>\n      <td>3.056704</td>\n      <td>2.964351</td>\n      <td>2.816666</td>\n      <td>2.126957</td>\n      <td>3.656228</td>\n      <td>2.473312</td>\n      <td>3.013403</td>\n      <td>1.638191</td>\n    </tr>\n    <tr>\n      <th>min</th>\n      <td>6.337500e+04</td>\n      <td>1.000000</td>\n      <td>1.000000</td>\n      <td>1.000000</td>\n      <td>1.000000</td>\n      <td>1.000000</td>\n      <td>1.000000</td>\n      <td>1.000000</td>\n      <td>1.000000</td>\n      <td>1.000000</td>\n    </tr>\n    <tr>\n      <th>25%</th>\n      <td>8.782542e+05</td>\n      <td>2.000000</td>\n      <td>1.000000</td>\n      <td>1.000000</td>\n      <td>1.000000</td>\n      <td>2.000000</td>\n      <td>1.000000</td>\n      <td>2.000000</td>\n      <td>1.000000</td>\n      <td>1.000000</td>\n    </tr>\n    <tr>\n      <th>50%</th>\n      <td>1.171752e+06</td>\n      <td>4.000000</td>\n      <td>1.000000</td>\n      <td>1.500000</td>\n      <td>1.000000</td>\n      <td>2.000000</td>\n      <td>1.000000</td>\n      <td>3.000000</td>\n      <td>1.000000</td>\n      <td>1.000000</td>\n    </tr>\n    <tr>\n      <th>75%</th>\n      <td>1.238923e+06</td>\n      <td>6.000000</td>\n      <td>5.000000</td>\n      <td>5.000000</td>\n      <td>4.000000</td>\n      <td>4.000000</td>\n      <td>7.000000</td>\n      <td>5.000000</td>\n      <td>3.000000</td>\n      <td>1.000000</td>\n    </tr>\n    <tr>\n      <th>max</th>\n      <td>1.345435e+07</td>\n      <td>10.000000</td>\n      <td>10.000000</td>\n      <td>10.000000</td>\n      <td>10.000000</td>\n      <td>10.000000</td>\n      <td>10.000000</td>\n      <td>10.000000</td>\n      <td>10.000000</td>\n      <td>10.000000</td>\n    </tr>\n  </tbody>\n</table>\n</div>",
      "text/plain": "       Sample code number  Clump Thickness  Uniformity of Cell Size  \\\ncount        5.600000e+02       560.000000               560.000000   \nmean         1.084014e+06         4.392857                 3.119643   \nstd          6.710439e+05         2.812435                 3.056704   \nmin          6.337500e+04         1.000000                 1.000000   \n25%          8.782542e+05         2.000000                 1.000000   \n50%          1.171752e+06         4.000000                 1.000000   \n75%          1.238923e+06         6.000000                 5.000000   \nmax          1.345435e+07        10.000000                10.000000   \n\n       Uniformity of Cell Shape  Marginal Adhesion  \\\ncount                560.000000         560.000000   \nmean                   3.178571           2.764286   \nstd                    2.964351           2.816666   \nmin                    1.000000           1.000000   \n25%                    1.000000           1.000000   \n50%                    1.500000           1.000000   \n75%                    5.000000           4.000000   \nmax                   10.000000          10.000000   \n\n       Single Epithelial Cell Size  Bare Nuclei  Bland Chromatin  \\\ncount                   560.000000   549.000000       560.000000   \nmean                      3.164286     3.553734         3.433929   \nstd                       2.126957     3.656228         2.473312   \nmin                       1.000000     1.000000         1.000000   \n25%                       2.000000     1.000000         2.000000   \n50%                       2.000000     1.000000         3.000000   \n75%                       4.000000     7.000000         5.000000   \nmax                      10.000000    10.000000        10.000000   \n\n       Normal Nucleoli     Mitoses  \ncount       560.000000  560.000000  \nmean          2.816071    1.557143  \nstd           3.013403    1.638191  \nmin           1.000000    1.000000  \n25%           1.000000    1.000000  \n50%           1.000000    1.000000  \n75%           3.000000    1.000000  \nmax          10.000000   10.000000  "
     },
     "execution_count": 161,
     "metadata": {},
     "output_type": "execute_result"
    }
   ],
   "source": [
    "train.describe()"
   ]
  },
  {
   "cell_type": "code",
   "execution_count": 162,
   "metadata": {},
   "outputs": [
    {
     "data": {
      "text/html": "<div>\n<style scoped>\n    .dataframe tbody tr th:only-of-type {\n        vertical-align: middle;\n    }\n\n    .dataframe tbody tr th {\n        vertical-align: top;\n    }\n\n    .dataframe thead th {\n        text-align: right;\n    }\n</style>\n<table border=\"1\" class=\"dataframe\">\n  <thead>\n    <tr style=\"text-align: right;\">\n      <th></th>\n      <th>Sample code number</th>\n      <th>Clump Thickness</th>\n      <th>Uniformity of Cell Size</th>\n      <th>Uniformity of Cell Shape</th>\n      <th>Marginal Adhesion</th>\n      <th>Single Epithelial Cell Size</th>\n      <th>Bare Nuclei</th>\n      <th>Bland Chromatin</th>\n      <th>Normal Nucleoli</th>\n      <th>Mitoses</th>\n    </tr>\n  </thead>\n  <tbody>\n    <tr>\n      <th>count</th>\n      <td>1.390000e+02</td>\n      <td>139.000000</td>\n      <td>139.000000</td>\n      <td>139.000000</td>\n      <td>139.000000</td>\n      <td>139.000000</td>\n      <td>134.000000</td>\n      <td>139.000000</td>\n      <td>139.000000</td>\n      <td>139.000000</td>\n    </tr>\n    <tr>\n      <th>mean</th>\n      <td>1.022111e+06</td>\n      <td>4.517986</td>\n      <td>3.194245</td>\n      <td>3.323741</td>\n      <td>2.978417</td>\n      <td>3.424460</td>\n      <td>3.507463</td>\n      <td>3.453237</td>\n      <td>3.071942</td>\n      <td>1.719424</td>\n    </tr>\n    <tr>\n      <th>std</th>\n      <td>3.146085e+05</td>\n      <td>2.837003</td>\n      <td>3.040494</td>\n      <td>3.010166</td>\n      <td>3.010772</td>\n      <td>2.533767</td>\n      <td>3.606065</td>\n      <td>2.300671</td>\n      <td>3.213739</td>\n      <td>1.996478</td>\n    </tr>\n    <tr>\n      <th>min</th>\n      <td>6.163400e+04</td>\n      <td>1.000000</td>\n      <td>1.000000</td>\n      <td>1.000000</td>\n      <td>1.000000</td>\n      <td>1.000000</td>\n      <td>1.000000</td>\n      <td>1.000000</td>\n      <td>1.000000</td>\n      <td>1.000000</td>\n    </tr>\n    <tr>\n      <th>25%</th>\n      <td>8.335615e+05</td>\n      <td>2.000000</td>\n      <td>1.000000</td>\n      <td>1.000000</td>\n      <td>1.000000</td>\n      <td>2.000000</td>\n      <td>1.000000</td>\n      <td>2.000000</td>\n      <td>1.000000</td>\n      <td>1.000000</td>\n    </tr>\n    <tr>\n      <th>50%</th>\n      <td>1.166654e+06</td>\n      <td>4.000000</td>\n      <td>1.000000</td>\n      <td>1.000000</td>\n      <td>1.000000</td>\n      <td>2.000000</td>\n      <td>1.000000</td>\n      <td>3.000000</td>\n      <td>1.000000</td>\n      <td>1.000000</td>\n    </tr>\n    <tr>\n      <th>75%</th>\n      <td>1.223514e+06</td>\n      <td>6.000000</td>\n      <td>4.500000</td>\n      <td>6.000000</td>\n      <td>3.000000</td>\n      <td>4.000000</td>\n      <td>5.000000</td>\n      <td>4.000000</td>\n      <td>4.000000</td>\n      <td>1.000000</td>\n    </tr>\n    <tr>\n      <th>max</th>\n      <td>1.354840e+06</td>\n      <td>10.000000</td>\n      <td>10.000000</td>\n      <td>10.000000</td>\n      <td>10.000000</td>\n      <td>10.000000</td>\n      <td>10.000000</td>\n      <td>10.000000</td>\n      <td>10.000000</td>\n      <td>10.000000</td>\n    </tr>\n  </tbody>\n</table>\n</div>",
      "text/plain": "       Sample code number  Clump Thickness  Uniformity of Cell Size  \\\ncount        1.390000e+02       139.000000               139.000000   \nmean         1.022111e+06         4.517986                 3.194245   \nstd          3.146085e+05         2.837003                 3.040494   \nmin          6.163400e+04         1.000000                 1.000000   \n25%          8.335615e+05         2.000000                 1.000000   \n50%          1.166654e+06         4.000000                 1.000000   \n75%          1.223514e+06         6.000000                 4.500000   \nmax          1.354840e+06        10.000000                10.000000   \n\n       Uniformity of Cell Shape  Marginal Adhesion  \\\ncount                139.000000         139.000000   \nmean                   3.323741           2.978417   \nstd                    3.010166           3.010772   \nmin                    1.000000           1.000000   \n25%                    1.000000           1.000000   \n50%                    1.000000           1.000000   \n75%                    6.000000           3.000000   \nmax                   10.000000          10.000000   \n\n       Single Epithelial Cell Size  Bare Nuclei  Bland Chromatin  \\\ncount                   139.000000   134.000000       139.000000   \nmean                      3.424460     3.507463         3.453237   \nstd                       2.533767     3.606065         2.300671   \nmin                       1.000000     1.000000         1.000000   \n25%                       2.000000     1.000000         2.000000   \n50%                       2.000000     1.000000         3.000000   \n75%                       4.000000     5.000000         4.000000   \nmax                      10.000000    10.000000        10.000000   \n\n       Normal Nucleoli     Mitoses  \ncount       139.000000  139.000000  \nmean          3.071942    1.719424  \nstd           3.213739    1.996478  \nmin           1.000000    1.000000  \n25%           1.000000    1.000000  \n50%           1.000000    1.000000  \n75%           4.000000    1.000000  \nmax          10.000000   10.000000  "
     },
     "execution_count": 162,
     "metadata": {},
     "output_type": "execute_result"
    }
   ],
   "source": [
    "test.describe()"
   ]
  },
  {
   "cell_type": "markdown",
   "execution_count": null,
   "metadata": {},
   "outputs": [],
   "source": [
    "#### Preprocessing"
   ]
  },
  {
   "cell_type": "code",
   "execution_count": 163,
   "metadata": {},
   "outputs": [
    {
     "data": {
      "text/plain": "Sample code number              0\nClump Thickness                 0\nUniformity of Cell Size         0\nUniformity of Cell Shape        0\nMarginal Adhesion               0\nSingle Epithelial Cell Size     0\nBare Nuclei                    11\nBland Chromatin                 0\nNormal Nucleoli                 0\nMitoses                         0\nClass                           0\ndtype: int64"
     },
     "execution_count": 163,
     "metadata": {},
     "output_type": "execute_result"
    }
   ],
   "source": [
    "#3 Pre-processing\n",
    "train.isnull().sum()"
   ]
  },
  {
   "cell_type": "code",
   "execution_count": 164,
   "metadata": {},
   "outputs": [
    {
     "data": {
      "text/plain": "Sample code number             0\nClump Thickness                0\nUniformity of Cell Size        0\nUniformity of Cell Shape       0\nMarginal Adhesion              0\nSingle Epithelial Cell Size    0\nBare Nuclei                    5\nBland Chromatin                0\nNormal Nucleoli                0\nMitoses                        0\nClass                          0\ndtype: int64"
     },
     "execution_count": 164,
     "metadata": {},
     "output_type": "execute_result"
    }
   ],
   "source": [
    "test.isnull().sum()"
   ]
  },
  {
   "cell_type": "code",
   "execution_count": 165,
   "metadata": {},
   "outputs": [],
   "source": [
    "# imputing null values with mean\n",
    "train.fillna(train.mean(), inplace=True)\n"
   ]
  },
  {
   "cell_type": "code",
   "execution_count": 166,
   "metadata": {},
   "outputs": [],
   "source": [
    "# imputing null values with mean\n",
    "test.fillna(test.mean(), inplace=True)\n"
   ]
  },
  {
   "cell_type": "markdown",
   "execution_count": null,
   "metadata": {},
   "outputs": [],
   "source": [
    "## Modeling\n",
    "### 1. split X and Y in train and test data\n",
    "### 2. Fit training data to the logistic regression Modeling"
   ]
  },
  {
   "cell_type": "code",
   "execution_count": 167,
   "metadata": {},
   "outputs": [],
   "source": [
    "# defining Y values for training set\n",
    "Y_train = train['Class']"
   ]
  },
  {
   "cell_type": "code",
   "execution_count": 168,
   "metadata": {},
   "outputs": [],
   "source": [
    "# defining X variables for training set\n",
    "X_train = train.iloc[:,0:10]"
   ]
  },
  {
   "cell_type": "code",
   "execution_count": 169,
   "metadata": {},
   "outputs": [],
   "source": [
    "# defining Y values for test set\n",
    "Y_test = test['Class']"
   ]
  },
  {
   "cell_type": "code",
   "execution_count": 170,
   "metadata": {},
   "outputs": [],
   "source": [
    "# defining X variables for test set\n",
    "X_test = test.iloc[:,0:10]"
   ]
  },
  {
   "cell_type": "markdown",
   "execution_count": null,
   "metadata": {},
   "outputs": [],
   "source": [
    "## Fitting data to logistic regression"
   ]
  },
  {
   "cell_type": "code",
   "execution_count": 171,
   "metadata": {},
   "outputs": [
    {
     "data": {
      "text/plain": "LogisticRegression(C=1.0, class_weight=None, dual=False, fit_intercept=True,\n                   intercept_scaling=1, l1_ratio=None, max_iter=100,\n                   multi_class='warn', n_jobs=None, penalty='l2',\n                   random_state=None, solver='warn', tol=0.0001, verbose=0,\n                   warm_start=False)"
     },
     "execution_count": 171,
     "metadata": {},
     "output_type": "execute_result"
    }
   ],
   "source": [
    "lr = LogisticRegression()\n",
    "lr.fit(X_train, Y_train)"
   ]
  },
  {
   "cell_type": "code",
   "execution_count": 172,
   "metadata": {},
   "outputs": [],
   "source": [
    "Y_pred = lr.predict(X_test)"
   ]
  },
  {
   "cell_type": "code",
   "execution_count": 173,
   "metadata": {},
   "outputs": [
    {
     "data": {
      "text/plain": "array(['Benign', 'Benign', 'Benign', 'Benign', 'Benign', 'Benign',\n       'Benign', 'Benign', 'Benign', 'Benign', 'Benign', 'Benign',\n       'Benign', 'Benign', 'Benign', 'Benign', 'Benign', 'Benign',\n       'Benign', 'Benign', 'Benign', 'Benign', 'Benign', 'Benign',\n       'Benign', 'Benign', 'Benign', 'Benign', 'Benign', 'Benign',\n       'Benign', 'Benign', 'Benign', 'Benign', 'Benign', 'Benign',\n       'Benign', 'Benign', 'Benign', 'Benign', 'Benign', 'Benign',\n       'Benign', 'Benign', 'Benign', 'Benign', 'Benign', 'Benign',\n       'Benign', 'Benign', 'Benign', 'Benign', 'Benign', 'Benign',\n       'Benign', 'Benign', 'Benign', 'Benign', 'Benign', 'Benign',\n       'Benign', 'Benign', 'Benign', 'Benign', 'Benign', 'Benign',\n       'Benign', 'Benign', 'Benign', 'Benign', 'Benign', 'Benign',\n       'Benign', 'Benign', 'Benign', 'Benign', 'Benign', 'Benign',\n       'Benign', 'Benign', 'Benign', 'Benign', 'Benign', 'Benign',\n       'Benign', 'Benign', 'Benign', 'Benign', 'Benign', 'Benign',\n       'Benign', 'Benign', 'Benign', 'Benign', 'Benign', 'Benign',\n       'Benign', 'Benign', 'Benign', 'Benign', 'Benign', 'Benign',\n       'Benign', 'Benign', 'Benign', 'Benign', 'Benign', 'Benign',\n       'Benign', 'Benign', 'Benign', 'Benign', 'Benign', 'Benign',\n       'Benign', 'Benign', 'Benign', 'Benign', 'Benign', 'Benign',\n       'Benign', 'Benign', 'Benign', 'Benign', 'Benign', 'Benign',\n       'Benign', 'Benign', 'Benign', 'Benign', 'Benign', 'Benign',\n       'Benign', 'Benign', 'Benign', 'Benign', 'Benign', 'Benign',\n       'Benign'], dtype=object)"
     },
     "execution_count": 173,
     "metadata": {},
     "output_type": "execute_result"
    }
   ],
   "source": [
    "Y_pred"
   ]
  },
  {
   "cell_type": "code",
   "execution_count": 174,
   "metadata": {},
   "outputs": [],
   "source": [
    "conf_matrix = confusion_matrix(Y_test, Y_pred)"
   ]
  },
  {
   "cell_type": "code",
   "execution_count": 175,
   "metadata": {},
   "outputs": [
    {
     "data": {
      "text/plain": "array([[88,  0],\n       [51,  0]], dtype=int64)"
     },
     "execution_count": 175,
     "metadata": {},
     "output_type": "execute_result"
    }
   ],
   "source": [
    "conf_matrix"
   ]
  },
  {
   "cell_type": "code",
   "execution_count": 176,
   "metadata": {},
   "outputs": [],
   "source": [
    "tree = DecisionTreeClassifier()"
   ]
  },
  {
   "cell_type": "code",
   "execution_count": 177,
   "metadata": {},
   "outputs": [
    {
     "data": {
      "text/plain": "DecisionTreeClassifier(class_weight=None, criterion='gini', max_depth=None,\n                       max_features=None, max_leaf_nodes=None,\n                       min_impurity_decrease=0.0, min_impurity_split=None,\n                       min_samples_leaf=1, min_samples_split=2,\n                       min_weight_fraction_leaf=0.0, presort=False,\n                       random_state=None, splitter='best')"
     },
     "execution_count": 177,
     "metadata": {},
     "output_type": "execute_result"
    }
   ],
   "source": [
    "# fitting the training set to decision tree\n",
    "tree.fit(X_train, Y_train)"
   ]
  },
  {
   "cell_type": "code",
   "execution_count": 178,
   "metadata": {},
   "outputs": [
    {
     "data": {
      "text/plain": "array(['Benign', 'Benign', 'Benign', 'Malignant', 'Malignant', 'Benign',\n       'Malignant', 'Benign', 'Malignant', 'Benign', 'Benign',\n       'Malignant', 'Malignant', 'Malignant', 'Benign', 'Benign',\n       'Benign', 'Benign', 'Malignant', 'Malignant', 'Benign', 'Benign',\n       'Malignant', 'Malignant', 'Malignant', 'Benign', 'Malignant',\n       'Benign', 'Benign', 'Malignant', 'Benign', 'Benign', 'Benign',\n       'Benign', 'Benign', 'Malignant', 'Benign', 'Benign', 'Malignant',\n       'Benign', 'Benign', 'Benign', 'Malignant', 'Malignant', 'Benign',\n       'Benign', 'Benign', 'Benign', 'Benign', 'Malignant', 'Malignant',\n       'Malignant', 'Benign', 'Malignant', 'Benign', 'Malignant',\n       'Malignant', 'Malignant', 'Malignant', 'Benign', 'Malignant',\n       'Malignant', 'Benign', 'Benign', 'Benign', 'Malignant',\n       'Malignant', 'Malignant', 'Benign', 'Malignant', 'Benign',\n       'Malignant', 'Benign', 'Malignant', 'Benign', 'Benign',\n       'Malignant', 'Benign', 'Benign', 'Benign', 'Benign', 'Benign',\n       'Benign', 'Malignant', 'Malignant', 'Benign', 'Benign', 'Benign',\n       'Benign', 'Benign', 'Benign', 'Malignant', 'Benign', 'Malignant',\n       'Benign', 'Malignant', 'Benign', 'Benign', 'Benign', 'Benign',\n       'Benign', 'Benign', 'Malignant', 'Malignant', 'Malignant',\n       'Benign', 'Benign', 'Benign', 'Benign', 'Benign', 'Benign',\n       'Benign', 'Malignant', 'Benign', 'Benign', 'Malignant', 'Benign',\n       'Benign', 'Benign', 'Benign', 'Benign', 'Benign', 'Malignant',\n       'Malignant', 'Benign', 'Benign', 'Benign', 'Benign', 'Benign',\n       'Benign', 'Benign', 'Benign', 'Benign', 'Benign', 'Benign',\n       'Malignant', 'Benign', 'Benign', 'Benign'], dtype=object)"
     },
     "execution_count": 178,
     "metadata": {},
     "output_type": "execute_result"
    }
   ],
   "source": [
    "Y_predicted = tree.predict(X_test)\n",
    "Y_predicted"
   ]
  },
  {
   "cell_type": "code",
   "execution_count": 179,
   "metadata": {},
   "outputs": [],
   "source": [
    "#generating confusion matrix\n",
    "tree_matrix = confusion_matrix(Y_test, Y_predicted)"
   ]
  },
  {
   "cell_type": "code",
   "execution_count": 187,
   "metadata": {},
   "outputs": [
    {
     "data": {
      "text/plain": "array([[86,  2],\n       [ 5, 46]], dtype=int64)"
     },
     "execution_count": 187,
     "metadata": {},
     "output_type": "execute_result"
    }
   ],
   "source": [
    "tree_matrix"
   ]
  },
  {
   "cell_type": "code",
   "execution_count": 181,
   "metadata": {},
   "outputs": [
    {
     "data": {
      "text/plain": "0.9496402877697842"
     },
     "execution_count": 181,
     "metadata": {},
     "output_type": "execute_result"
    }
   ],
   "source": [
    "tree.score(X_test, Y_test)"
   ]
  },
  {
   "cell_type": "code",
   "execution_count": 182,
   "metadata": {},
   "outputs": [],
   "source": [
    "# random forest model\n",
    "from sklearn.ensemble import RandomForestClassifier"
   ]
  },
  {
   "cell_type": "code",
   "execution_count": 183,
   "metadata": {},
   "outputs": [],
   "source": [
    "model = RandomForestClassifier()"
   ]
  },
  {
   "cell_type": "code",
   "execution_count": 184,
   "metadata": {},
   "outputs": [
    {
     "data": {
      "text/plain": "RandomForestClassifier(bootstrap=True, class_weight=None, criterion='gini',\n                       max_depth=None, max_features='auto', max_leaf_nodes=None,\n                       min_impurity_decrease=0.0, min_impurity_split=None,\n                       min_samples_leaf=1, min_samples_split=2,\n                       min_weight_fraction_leaf=0.0, n_estimators=10,\n                       n_jobs=None, oob_score=False, random_state=None,\n                       verbose=0, warm_start=False)"
     },
     "execution_count": 184,
     "metadata": {},
     "output_type": "execute_result"
    }
   ],
   "source": [
    "model.fit(X_train, Y_train)"
   ]
  },
  {
   "cell_type": "code",
   "execution_count": 185,
   "metadata": {},
   "outputs": [
    {
     "data": {
      "text/plain": "array(['Benign', 'Benign', 'Benign', 'Malignant', 'Malignant', 'Benign',\n       'Malignant', 'Benign', 'Malignant', 'Benign', 'Malignant',\n       'Benign', 'Malignant', 'Malignant', 'Benign', 'Benign', 'Benign',\n       'Malignant', 'Malignant', 'Malignant', 'Benign', 'Benign',\n       'Malignant', 'Malignant', 'Benign', 'Benign', 'Malignant',\n       'Benign', 'Benign', 'Malignant', 'Malignant', 'Benign', 'Benign',\n       'Benign', 'Benign', 'Malignant', 'Benign', 'Benign', 'Malignant',\n       'Benign', 'Benign', 'Benign', 'Malignant', 'Malignant', 'Benign',\n       'Benign', 'Benign', 'Benign', 'Benign', 'Malignant', 'Malignant',\n       'Malignant', 'Benign', 'Malignant', 'Benign', 'Malignant',\n       'Malignant', 'Malignant', 'Malignant', 'Benign', 'Malignant',\n       'Malignant', 'Benign', 'Benign', 'Benign', 'Malignant',\n       'Malignant', 'Malignant', 'Benign', 'Malignant', 'Benign',\n       'Malignant', 'Benign', 'Malignant', 'Benign', 'Malignant',\n       'Malignant', 'Benign', 'Benign', 'Benign', 'Benign', 'Benign',\n       'Benign', 'Malignant', 'Malignant', 'Benign', 'Benign', 'Benign',\n       'Benign', 'Benign', 'Benign', 'Malignant', 'Benign', 'Malignant',\n       'Benign', 'Malignant', 'Benign', 'Benign', 'Benign', 'Benign',\n       'Benign', 'Benign', 'Malignant', 'Malignant', 'Malignant',\n       'Benign', 'Benign', 'Benign', 'Benign', 'Benign', 'Benign',\n       'Benign', 'Malignant', 'Benign', 'Benign', 'Malignant', 'Benign',\n       'Benign', 'Benign', 'Benign', 'Benign', 'Benign', 'Malignant',\n       'Malignant', 'Benign', 'Benign', 'Benign', 'Benign', 'Benign',\n       'Benign', 'Benign', 'Benign', 'Benign', 'Benign', 'Benign',\n       'Malignant', 'Benign', 'Benign', 'Benign'], dtype=object)"
     },
     "execution_count": 185,
     "metadata": {},
     "output_type": "execute_result"
    }
   ],
   "source": [
    "Y_forest_pred = model.predict(X_test)\n",
    "Y_forest_pred"
   ]
  },
  {
   "cell_type": "code",
   "execution_count": 186,
   "metadata": {},
   "outputs": [],
   "source": [
    "C_matrix = confusion_matrix(Y_test, Y_forest_pred)"
   ]
  },
  {
   "cell_type": "code",
   "execution_count": 188,
   "metadata": {},
   "outputs": [
    {
     "data": {
      "text/plain": "array([[87,  1],\n       [ 2, 49]], dtype=int64)"
     },
     "execution_count": 188,
     "metadata": {},
     "output_type": "execute_result"
    }
   ],
   "source": [
    "C_matrix"
   ]
  },
  {
   "cell_type": "code",
   "execution_count": null,
   "metadata": {},
   "outputs": [],
   "source": []
  }
 ]
}